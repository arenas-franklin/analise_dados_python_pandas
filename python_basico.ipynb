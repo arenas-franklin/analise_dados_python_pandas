{
 "cells": [
  {
   "cell_type": "markdown",
   "id": "22dd5d00-86ec-4cb9-b288-755b78fb4910",
   "metadata": {},
   "source": [
    "# Python Básico"
   ]
  },
  {
   "cell_type": "code",
   "execution_count": 1,
   "id": "7569e8cd-1254-4223-9685-414aa34ed3f3",
   "metadata": {},
   "outputs": [
    {
     "name": "stdout",
     "output_type": "stream",
     "text": [
      "Ola mundo!\n"
     ]
    }
   ],
   "source": [
    "print(\"Ola mundo!\")"
   ]
  },
  {
   "cell_type": "markdown",
   "id": "089972b7-1e1a-42d2-8b8e-4d193f1ea6e9",
   "metadata": {},
   "source": [
    "**Operadores matemáticos**"
   ]
  },
  {
   "cell_type": "code",
   "execution_count": 3,
   "id": "dba098a6-59ad-497c-b00e-702504cb3d77",
   "metadata": {},
   "outputs": [
    {
     "data": {
      "text/plain": [
       "2"
      ]
     },
     "execution_count": 3,
     "metadata": {},
     "output_type": "execute_result"
    }
   ],
   "source": [
    "# soma\n",
    "1+1"
   ]
  },
  {
   "cell_type": "code",
   "execution_count": 4,
   "id": "aa9dfd5a-a40a-4d02-b411-129fb801a7d0",
   "metadata": {},
   "outputs": [
    {
     "data": {
      "text/plain": [
       "8"
      ]
     },
     "execution_count": 4,
     "metadata": {},
     "output_type": "execute_result"
    }
   ],
   "source": [
    "# subtração\n",
    "10-2"
   ]
  },
  {
   "cell_type": "code",
   "execution_count": 5,
   "id": "60d9c4ad-06ac-436e-90d1-5d38058cc2f3",
   "metadata": {},
   "outputs": [
    {
     "data": {
      "text/plain": [
       "4"
      ]
     },
     "execution_count": 5,
     "metadata": {},
     "output_type": "execute_result"
    }
   ],
   "source": [
    "# Multiplicação\n",
    "2 * 2"
   ]
  },
  {
   "cell_type": "code",
   "execution_count": 6,
   "id": "6c5a6fcf-bb6e-4b5d-a56b-e7066f77a918",
   "metadata": {},
   "outputs": [
    {
     "data": {
      "text/plain": [
       "5.0"
      ]
     },
     "execution_count": 6,
     "metadata": {},
     "output_type": "execute_result"
    }
   ],
   "source": [
    "# Divisão\n",
    "10 / 2"
   ]
  },
  {
   "cell_type": "markdown",
   "id": "974c0763-a120-4f3a-88a5-f9ff61a5b55e",
   "metadata": {},
   "source": [
    "**variaveis** "
   ]
  },
  {
   "cell_type": "code",
   "execution_count": 7,
   "id": "8722abab-da5d-4436-92e7-80a26b3ac5d5",
   "metadata": {},
   "outputs": [],
   "source": [
    "a = 4\n",
    "b = 6"
   ]
  },
  {
   "cell_type": "code",
   "execution_count": 8,
   "id": "3573959d-356c-4c36-a4de-77f289fb4184",
   "metadata": {},
   "outputs": [
    {
     "data": {
      "text/plain": [
       "10"
      ]
     },
     "execution_count": 8,
     "metadata": {},
     "output_type": "execute_result"
    }
   ],
   "source": [
    "a + b"
   ]
  },
  {
   "cell_type": "code",
   "execution_count": 10,
   "id": "abf16e1d-12ce-4461-a52f-8f3b31a2806e",
   "metadata": {},
   "outputs": [],
   "source": [
    "# Criando uma variavel do tipo string\n",
    "frase = \"Python para análise de dados\""
   ]
  },
  {
   "cell_type": "code",
   "execution_count": 12,
   "id": "2d7f73eb-9e45-403c-b6c6-2ca604de1e94",
   "metadata": {},
   "outputs": [
    {
     "data": {
      "text/plain": [
       "'P'"
      ]
     },
     "execution_count": 12,
     "metadata": {},
     "output_type": "execute_result"
    }
   ],
   "source": [
    "frase[0]"
   ]
  },
  {
   "cell_type": "code",
   "execution_count": 13,
   "id": "1109da8f-59e0-415c-af61-0e4c20d91d17",
   "metadata": {},
   "outputs": [
    {
     "data": {
      "text/plain": [
       "'Python par'"
      ]
     },
     "execution_count": 13,
     "metadata": {},
     "output_type": "execute_result"
    }
   ],
   "source": [
    "frase[0:10]"
   ]
  },
  {
   "cell_type": "code",
   "execution_count": 14,
   "id": "5c707c9b-06f4-4e18-890f-ab67e3a34091",
   "metadata": {},
   "outputs": [
    {
     "data": {
      "text/plain": [
       "'a análise de dados'"
      ]
     },
     "execution_count": 14,
     "metadata": {},
     "output_type": "execute_result"
    }
   ],
   "source": [
    "frase[10:]"
   ]
  },
  {
   "cell_type": "code",
   "execution_count": 15,
   "id": "f287cb8f-929b-454e-9d5c-26982cf99677",
   "metadata": {},
   "outputs": [
    {
     "data": {
      "text/plain": [
       "'Python para análi'"
      ]
     },
     "execution_count": 15,
     "metadata": {},
     "output_type": "execute_result"
    }
   ],
   "source": [
    "frase[:17]"
   ]
  },
  {
   "cell_type": "code",
   "execution_count": 16,
   "id": "5117ba3d-81e1-41eb-ad10-1d86573e55af",
   "metadata": {},
   "outputs": [
    {
     "data": {
      "text/plain": [
       "1"
      ]
     },
     "execution_count": 16,
     "metadata": {},
     "output_type": "execute_result"
    }
   ],
   "source": [
    "frase.count(\"dados\")"
   ]
  },
  {
   "cell_type": "code",
   "execution_count": 17,
   "id": "1ae9ff0e-214a-4e4d-a25c-a8b53bf4f699",
   "metadata": {},
   "outputs": [
    {
     "data": {
      "text/plain": [
       "'python para análise de dados'"
      ]
     },
     "execution_count": 17,
     "metadata": {},
     "output_type": "execute_result"
    }
   ],
   "source": [
    "frase.lower()"
   ]
  },
  {
   "cell_type": "code",
   "execution_count": 22,
   "id": "dea69490-3542-44f1-86bc-38300a535679",
   "metadata": {},
   "outputs": [],
   "source": [
    "frase = frase.upper()"
   ]
  },
  {
   "cell_type": "code",
   "execution_count": 24,
   "id": "695013cd-a7c0-4aa7-969e-ba01446fbdbd",
   "metadata": {},
   "outputs": [
    {
     "data": {
      "text/plain": [
       "'Frases PARA ANÁLISE DE DADOS'"
      ]
     },
     "execution_count": 24,
     "metadata": {},
     "output_type": "execute_result"
    }
   ],
   "source": [
    "frase.replace(\"PYTHON\", \"Frases\")"
   ]
  },
  {
   "cell_type": "code",
   "execution_count": null,
   "id": "8450c638-75e2-4336-98db-0eb9ea71477b",
   "metadata": {},
   "outputs": [],
   "source": []
  },
  {
   "cell_type": "code",
   "execution_count": null,
   "id": "c051d357-2c0e-44c8-8519-324d109110fc",
   "metadata": {},
   "outputs": [],
   "source": []
  }
 ],
 "metadata": {
  "kernelspec": {
   "display_name": "Python 3 (ipykernel)",
   "language": "python",
   "name": "python3"
  },
  "language_info": {
   "codemirror_mode": {
    "name": "ipython",
    "version": 3
   },
   "file_extension": ".py",
   "mimetype": "text/x-python",
   "name": "python",
   "nbconvert_exporter": "python",
   "pygments_lexer": "ipython3",
   "version": "3.9.13"
  }
 },
 "nbformat": 4,
 "nbformat_minor": 5
}
