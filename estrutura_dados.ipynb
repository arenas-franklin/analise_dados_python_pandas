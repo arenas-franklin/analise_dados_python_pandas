{
 "cells": [
  {
   "cell_type": "markdown",
   "id": "8b6ca185-a7c7-4de2-9aa4-e8d944c33f46",
   "metadata": {},
   "source": [
    "# Estrutura de dados"
   ]
  },
  {
   "cell_type": "markdown",
   "id": "49a767a1-40f9-4313-a6d3-6e6c2c5a5e51",
   "metadata": {
    "tags": []
   },
   "source": [
    "## LIstas"
   ]
  },
  {
   "cell_type": "code",
   "execution_count": 2,
   "id": "ca96fca1-64a1-4993-a96c-b6806406fdb9",
   "metadata": {},
   "outputs": [
    {
     "data": {
      "text/plain": [
       "[1, 2, 3]"
      ]
     },
     "execution_count": 2,
     "metadata": {},
     "output_type": "execute_result"
    }
   ],
   "source": [
    "# Criando uma lista Chamada animais\n",
    "animais = [1, 2, 3]\n",
    "animais"
   ]
  },
  {
   "cell_type": "code",
   "execution_count": 3,
   "id": "21dcaf4b-ffa1-44e0-a024-af8dea76fe5b",
   "metadata": {},
   "outputs": [
    {
     "data": {
      "text/plain": [
       "['cachorro', 'gato', 12345, 6.5]"
      ]
     },
     "execution_count": 3,
     "metadata": {},
     "output_type": "execute_result"
    }
   ],
   "source": [
    "animais = [\"cachorro\", \"gato\", 12345, 6.5]\n",
    "animais"
   ]
  },
  {
   "cell_type": "code",
   "execution_count": 4,
   "id": "82fb5b16-be4a-4dce-92a9-17e5724f6f99",
   "metadata": {},
   "outputs": [
    {
     "data": {
      "text/plain": [
       "'cachorro'"
      ]
     },
     "execution_count": 4,
     "metadata": {},
     "output_type": "execute_result"
    }
   ],
   "source": [
    "#Imprimindo o primeiro elemento da lista \n",
    "animais[0]"
   ]
  },
  {
   "cell_type": "code",
   "execution_count": 5,
   "id": "7df7891a-1f6a-4f6f-a38b-faac94c1d90c",
   "metadata": {},
   "outputs": [
    {
     "data": {
      "text/plain": [
       "6.5"
      ]
     },
     "execution_count": 5,
     "metadata": {},
     "output_type": "execute_result"
    }
   ],
   "source": [
    "# Imprimindo o 4 elemento da lista\n",
    "animais[3]"
   ]
  },
  {
   "cell_type": "code",
   "execution_count": 7,
   "id": "095e85cd-b0df-4277-ac3d-e532b2715f3b",
   "metadata": {},
   "outputs": [
    {
     "data": {
      "text/plain": [
       "'papagaio'"
      ]
     },
     "execution_count": 7,
     "metadata": {},
     "output_type": "execute_result"
    }
   ],
   "source": [
    "# Suvstituindo o primeiro elemento da lista\n",
    "animais[0] = \"papagaio\"\n",
    "animais[0]"
   ]
  },
  {
   "cell_type": "code",
   "execution_count": 8,
   "id": "c3a82a09-124f-4688-b1df-c9da5d7709e7",
   "metadata": {},
   "outputs": [],
   "source": [
    "# Removendo gato da lista\n",
    "animais.remove(\"gato\")"
   ]
  },
  {
   "cell_type": "code",
   "execution_count": 10,
   "id": "739317fa-95c2-41ae-8fa5-bd408076ba5d",
   "metadata": {},
   "outputs": [
    {
     "data": {
      "text/plain": [
       "['papagaio', 12345, 6.5]"
      ]
     },
     "execution_count": 10,
     "metadata": {},
     "output_type": "execute_result"
    }
   ],
   "source": [
    "animais"
   ]
  },
  {
   "cell_type": "code",
   "execution_count": 11,
   "id": "2cd1f659-b718-482a-9874-16189dc2bb6f",
   "metadata": {},
   "outputs": [
    {
     "data": {
      "text/plain": [
       "3"
      ]
     },
     "execution_count": 11,
     "metadata": {},
     "output_type": "execute_result"
    }
   ],
   "source": [
    "# saer o tamanho da lista\n",
    "len(animais)"
   ]
  },
  {
   "cell_type": "code",
   "execution_count": 15,
   "id": "f80a4aa6-a012-4532-bd33-dd7da7c5597b",
   "metadata": {},
   "outputs": [
    {
     "data": {
      "text/plain": [
       "False"
      ]
     },
     "execution_count": 15,
     "metadata": {},
     "output_type": "execute_result"
    }
   ],
   "source": [
    "# saber se o elemento pertence a lista\n",
    "\"gato\" in animais"
   ]
  },
  {
   "cell_type": "code",
   "execution_count": 16,
   "id": "1a1940e5-94d0-4d80-971b-33bbe7e9d6cc",
   "metadata": {},
   "outputs": [
    {
     "data": {
      "text/plain": [
       "True"
      ]
     },
     "execution_count": 16,
     "metadata": {},
     "output_type": "execute_result"
    }
   ],
   "source": [
    "6.5 in animais"
   ]
  },
  {
   "cell_type": "code",
   "execution_count": 19,
   "id": "2d61728c-7489-4a89-970f-c276c10cd623",
   "metadata": {},
   "outputs": [],
   "source": [
    "lista = [500, 30, 300, 10] "
   ]
  },
  {
   "cell_type": "code",
   "execution_count": 20,
   "id": "b158cb08-6196-4167-92c8-5a07dc4fb6b3",
   "metadata": {},
   "outputs": [
    {
     "data": {
      "text/plain": [
       "500"
      ]
     },
     "execution_count": 20,
     "metadata": {},
     "output_type": "execute_result"
    }
   ],
   "source": [
    "# maior valor da lista\n",
    "max(lista)"
   ]
  },
  {
   "cell_type": "code",
   "execution_count": 21,
   "id": "a2291249-371d-4eab-8b21-b039aa93a3a7",
   "metadata": {},
   "outputs": [
    {
     "data": {
      "text/plain": [
       "10"
      ]
     },
     "execution_count": 21,
     "metadata": {},
     "output_type": "execute_result"
    }
   ],
   "source": [
    "# menor valor da lista\n",
    "min(lista)"
   ]
  },
  {
   "cell_type": "code",
   "execution_count": 26,
   "id": "450a8713-52a4-41ce-a4c3-60bf9c24653f",
   "metadata": {},
   "outputs": [
    {
     "data": {
      "text/plain": [
       "['papagaio', 12345, 6.5, 'leão']"
      ]
     },
     "execution_count": 26,
     "metadata": {},
     "output_type": "execute_result"
    }
   ],
   "source": [
    "# adiociona um valor a lista\n",
    "animais.append(\"leão\")\n",
    "animais"
   ]
  },
  {
   "cell_type": "code",
   "execution_count": 28,
   "id": "302a89e5-d9ca-49f8-8d1e-f7e67c0c1549",
   "metadata": {},
   "outputs": [],
   "source": [
    "# adionar dois elemento numa lista\n",
    "animais.extend([\"cobra\", \"rato\"])"
   ]
  },
  {
   "cell_type": "code",
   "execution_count": 29,
   "id": "f40519b6-70a3-4c07-9cb6-dcb95e27912a",
   "metadata": {},
   "outputs": [
    {
     "data": {
      "text/plain": [
       "['papagaio', 12345, 6.5, 'leão', 'cobra', 'rato']"
      ]
     },
     "execution_count": 29,
     "metadata": {},
     "output_type": "execute_result"
    }
   ],
   "source": [
    "animais"
   ]
  },
  {
   "cell_type": "code",
   "execution_count": 30,
   "id": "faa5ab74-3262-4e7e-a845-5eeed4824a9c",
   "metadata": {},
   "outputs": [],
   "source": [
    "animais += [\"cachorro\", \"peixe\"]"
   ]
  },
  {
   "cell_type": "code",
   "execution_count": 31,
   "id": "edfa0dde-e0b7-4790-96b4-413da0ffc29c",
   "metadata": {},
   "outputs": [
    {
     "data": {
      "text/plain": [
       "['papagaio', 12345, 6.5, 'leão', 'cobra', 'rato', 'cachorro', 'peixe']"
      ]
     },
     "execution_count": 31,
     "metadata": {},
     "output_type": "execute_result"
    }
   ],
   "source": [
    "animais"
   ]
  },
  {
   "cell_type": "code",
   "execution_count": 33,
   "id": "bb8442d4-1d89-4eaa-b56b-90673bb5224f",
   "metadata": {},
   "outputs": [
    {
     "data": {
      "text/plain": [
       "1"
      ]
     },
     "execution_count": 33,
     "metadata": {},
     "output_type": "execute_result"
    }
   ],
   "source": [
    "# contar a quantiadde de vezes que um elemento da lista se repete\n",
    "animais.count(\"rato\")"
   ]
  },
  {
   "cell_type": "code",
   "execution_count": 36,
   "id": "211c50ce-0409-4aa7-9e3c-21147bdf4dbc",
   "metadata": {},
   "outputs": [
    {
     "data": {
      "text/plain": [
       "[10, 30, 300, 500]"
      ]
     },
     "execution_count": 36,
     "metadata": {},
     "output_type": "execute_result"
    }
   ],
   "source": [
    "lista"
   ]
  },
  {
   "cell_type": "code",
   "execution_count": 35,
   "id": "7a419d48-7219-4cd1-9510-de54396c2a7d",
   "metadata": {},
   "outputs": [
    {
     "data": {
      "text/plain": [
       "[10, 30, 300, 500]"
      ]
     },
     "execution_count": 35,
     "metadata": {},
     "output_type": "execute_result"
    }
   ],
   "source": [
    "# ordenar uma lista\n",
    "lista.sort()\n",
    "lista"
   ]
  },
  {
   "cell_type": "markdown",
   "id": "44155c7c-f5a6-420c-898a-bcdbf96d2804",
   "metadata": {},
   "source": [
    "## Tuplas"
   ]
  },
  {
   "cell_type": "code",
   "execution_count": 37,
   "id": "dc6da52f-0010-46c9-9fd7-0b42558be2a3",
   "metadata": {},
   "outputs": [],
   "source": [
    "# tuplas usam paraênteses como sintaxe\n",
    "tp = (\"Banana\", \"Maçã\", 10, 50)"
   ]
  },
  {
   "cell_type": "code",
   "execution_count": 38,
   "id": "25c61206-cebe-43c7-a9e4-166c310253f4",
   "metadata": {},
   "outputs": [
    {
     "data": {
      "text/plain": [
       "('Banana', 'Maçã', 10, 50)"
      ]
     },
     "execution_count": 38,
     "metadata": {},
     "output_type": "execute_result"
    }
   ],
   "source": [
    "tp"
   ]
  },
  {
   "cell_type": "code",
   "execution_count": 39,
   "id": "97bae8de-330f-4ed7-b5e0-9c9920a8a889",
   "metadata": {},
   "outputs": [
    {
     "data": {
      "text/plain": [
       "tuple"
      ]
     },
     "execution_count": 39,
     "metadata": {},
     "output_type": "execute_result"
    }
   ],
   "source": [
    "type(tp)"
   ]
  },
  {
   "cell_type": "code",
   "execution_count": 40,
   "id": "a6658df6-e68b-4421-99bb-c6f1fd19ae5a",
   "metadata": {},
   "outputs": [
    {
     "data": {
      "text/plain": [
       "'Banana'"
      ]
     },
     "execution_count": 40,
     "metadata": {},
     "output_type": "execute_result"
    }
   ],
   "source": [
    "# retornar o primeiro elemento\n",
    "tp[0]"
   ]
  },
  {
   "cell_type": "code",
   "execution_count": 41,
   "id": "7f14c354-457f-43d4-a0cc-696f5e5d8e0b",
   "metadata": {},
   "outputs": [
    {
     "ename": "TypeError",
     "evalue": "'tuple' object does not support item assignment",
     "output_type": "error",
     "traceback": [
      "\u001b[0;31m---------------------------------------------------------------------------\u001b[0m",
      "\u001b[0;31mTypeError\u001b[0m                                 Traceback (most recent call last)",
      "\u001b[0;32m/tmp/ipykernel_7292/3974989529.py\u001b[0m in \u001b[0;36m<module>\u001b[0;34m\u001b[0m\n\u001b[1;32m      1\u001b[0m \u001b[0;31m# Diferente das listas as tuplas são imutaveis,\u001b[0m\u001b[0;34m\u001b[0m\u001b[0;34m\u001b[0m\u001b[0m\n\u001b[1;32m      2\u001b[0m \u001b[0;31m#o que quer dizer que não podemos alterar os seus  elementos\u001b[0m\u001b[0;34m\u001b[0m\u001b[0;34m\u001b[0m\u001b[0m\n\u001b[0;32m----> 3\u001b[0;31m \u001b[0mtp\u001b[0m\u001b[0;34m[\u001b[0m\u001b[0;36m0\u001b[0m\u001b[0;34m]\u001b[0m \u001b[0;34m=\u001b[0m \u001b[0;34m\"Laranja\"\u001b[0m\u001b[0;34m\u001b[0m\u001b[0;34m\u001b[0m\u001b[0m\n\u001b[0m",
      "\u001b[0;31mTypeError\u001b[0m: 'tuple' object does not support item assignment"
     ]
    }
   ],
   "source": [
    "# Diferente das listas as tuplas são imutaveis,\n",
    "#o que quer dizer que não podemos alterar os seus  elementos\n",
    "tp[0] = \"Laranja\""
   ]
  },
  {
   "cell_type": "code",
   "execution_count": 42,
   "id": "278de8e7-a1cf-4cf7-92f6-11359390f82b",
   "metadata": {},
   "outputs": [
    {
     "data": {
      "text/plain": [
       "1"
      ]
     },
     "execution_count": 42,
     "metadata": {},
     "output_type": "execute_result"
    }
   ],
   "source": [
    "tp.count(\"Maçã\")"
   ]
  },
  {
   "cell_type": "code",
   "execution_count": 44,
   "id": "a7742ead-227c-410b-822c-bff8fc29f3ef",
   "metadata": {},
   "outputs": [
    {
     "data": {
      "text/plain": [
       "('Banana', 'Maçã')"
      ]
     },
     "execution_count": 44,
     "metadata": {},
     "output_type": "execute_result"
    }
   ],
   "source": [
    "tp[0:2]"
   ]
  },
  {
   "cell_type": "markdown",
   "id": "cf6740b9-3aae-4f1e-99bd-1911b370e150",
   "metadata": {},
   "source": [
    "## Dicionários"
   ]
  },
  {
   "cell_type": "code",
   "execution_count": 46,
   "id": "b5e724d7-fc0d-4609-9e6e-43f05392fd26",
   "metadata": {},
   "outputs": [],
   "source": [
    "# Para criar um dicionario utilizamos {}\n",
    "# Dicionario trabalha com o conceito chave e valor \n",
    "dc = {\"Maçã\": 20, \"Banana\": 10, \"Laranja\": 15, \"Uva\": 5}"
   ]
  },
  {
   "cell_type": "code",
   "execution_count": 47,
   "id": "2cd2bec0-c8fb-413b-84e9-64458242b96d",
   "metadata": {},
   "outputs": [
    {
     "data": {
      "text/plain": [
       "{'Maçã': 20, 'Banana': 10, 'Laranja': 15, 'Uva': 5}"
      ]
     },
     "execution_count": 47,
     "metadata": {},
     "output_type": "execute_result"
    }
   ],
   "source": [
    "dc"
   ]
  },
  {
   "cell_type": "code",
   "execution_count": 48,
   "id": "765e9ab6-a333-4407-85a6-4842d94651a2",
   "metadata": {},
   "outputs": [
    {
     "data": {
      "text/plain": [
       "dict"
      ]
     },
     "execution_count": 48,
     "metadata": {},
     "output_type": "execute_result"
    }
   ],
   "source": [
    "type(dc)"
   ]
  },
  {
   "cell_type": "code",
   "execution_count": 49,
   "id": "d14d073c-ffba-462f-a4cf-47455bf2e598",
   "metadata": {},
   "outputs": [
    {
     "data": {
      "text/plain": [
       "20"
      ]
     },
     "execution_count": 49,
     "metadata": {},
     "output_type": "execute_result"
    }
   ],
   "source": [
    "dc[\"Maçã\"]"
   ]
  },
  {
   "cell_type": "code",
   "execution_count": 50,
   "id": "ef19dd88-9df8-494f-8753-9581c9f914a9",
   "metadata": {},
   "outputs": [],
   "source": [
    "dc[\"Maçã\"] = 25"
   ]
  },
  {
   "cell_type": "code",
   "execution_count": 51,
   "id": "048bbefb-5ffb-460f-956d-07c1cb3157e6",
   "metadata": {},
   "outputs": [
    {
     "data": {
      "text/plain": [
       "{'Maçã': 25, 'Banana': 10, 'Laranja': 15, 'Uva': 5}"
      ]
     },
     "execution_count": 51,
     "metadata": {},
     "output_type": "execute_result"
    }
   ],
   "source": [
    "dc"
   ]
  },
  {
   "cell_type": "code",
   "execution_count": 52,
   "id": "65211dc1-bcd7-4f40-aeb0-d16d1f2d55a7",
   "metadata": {},
   "outputs": [
    {
     "data": {
      "text/plain": [
       "dict_keys(['Maçã', 'Banana', 'Laranja', 'Uva'])"
      ]
     },
     "execution_count": 52,
     "metadata": {},
     "output_type": "execute_result"
    }
   ],
   "source": [
    "# Retorna as chaves do dicionario\n",
    "dc.keys()"
   ]
  },
  {
   "cell_type": "code",
   "execution_count": 54,
   "id": "4df16b07-cc33-4772-9db3-012b2b73a656",
   "metadata": {},
   "outputs": [
    {
     "data": {
      "text/plain": [
       "dict_values([25, 10, 15, 5])"
      ]
     },
     "execution_count": 54,
     "metadata": {},
     "output_type": "execute_result"
    }
   ],
   "source": [
    "# retorna os valres do dicionais\n",
    "dc.values()"
   ]
  },
  {
   "cell_type": "code",
   "execution_count": 56,
   "id": "d5a9f5ef-6253-4ddd-9c56-645ddc4981e5",
   "metadata": {},
   "outputs": [
    {
     "data": {
      "text/plain": [
       "22"
      ]
     },
     "execution_count": 56,
     "metadata": {},
     "output_type": "execute_result"
    }
   ],
   "source": [
    "# veridicar se já existe  uma chave no dicionario  e caso exista  inserir\n",
    "dc.setdefault(\"Limão\",22)"
   ]
  },
  {
   "cell_type": "code",
   "execution_count": 57,
   "id": "d12a9d36-46e1-493f-a67a-a073ea4e2c6f",
   "metadata": {},
   "outputs": [
    {
     "data": {
      "text/plain": [
       "{'Maçã': 25, 'Banana': 10, 'Laranja': 15, 'Uva': 5, 'Limão': 22}"
      ]
     },
     "execution_count": 57,
     "metadata": {},
     "output_type": "execute_result"
    }
   ],
   "source": [
    "dc"
   ]
  },
  {
   "cell_type": "code",
   "execution_count": null,
   "id": "8075f456-07d4-46a8-9502-bb8e22004ca2",
   "metadata": {},
   "outputs": [],
   "source": []
  }
 ],
 "metadata": {
  "kernelspec": {
   "display_name": "Python 3 (ipykernel)",
   "language": "python",
   "name": "python3"
  },
  "language_info": {
   "codemirror_mode": {
    "name": "ipython",
    "version": 3
   },
   "file_extension": ".py",
   "mimetype": "text/x-python",
   "name": "python",
   "nbconvert_exporter": "python",
   "pygments_lexer": "ipython3",
   "version": "3.9.13"
  }
 },
 "nbformat": 4,
 "nbformat_minor": 5
}
